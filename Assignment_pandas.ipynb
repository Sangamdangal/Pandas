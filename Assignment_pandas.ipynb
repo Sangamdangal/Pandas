{
 "cells": [
  {
   "cell_type": "markdown",
   "id": "d8331536-bf3b-4b42-9f2b-be55e57aae1e",
   "metadata": {},
   "source": [
    "Qn 1 Convert the following list `my_lst` to a Pandas Series and set the explicit indices as 'one', 'two', 'three'. The data type of the elements should be `float64`."
   ]
  },
  {
   "cell_type": "code",
   "execution_count": 1,
   "id": "b828abc0-8399-4b6a-ab1c-997b7b27be21",
   "metadata": {},
   "outputs": [],
   "source": [
    "import pandas as pd\n",
    "\n",
    "my_lst = [1, 2, 3]"
   ]
  },
  {
   "cell_type": "code",
   "execution_count": 2,
   "id": "8338a8d8-563d-4b08-a13a-d5a232299af1",
   "metadata": {},
   "outputs": [
    {
     "data": {
      "text/plain": [
       "one      1\n",
       "two      2\n",
       "three    3\n",
       "dtype: int64"
      ]
     },
     "execution_count": 2,
     "metadata": {},
     "output_type": "execute_result"
    }
   ],
   "source": [
    "explicit_indices = ['one', 'two', 'three']\n",
    "my_lst = pd.Series(my_lst, index = explicit_indices)\n",
    "my_lst"
   ]
  },
  {
   "cell_type": "code",
   "execution_count": 3,
   "id": "3080edaf-5a16-4dfd-a7cb-6ba21e708a32",
   "metadata": {},
   "outputs": [],
   "source": [
    "# pd.Series is a method provided by pandas to convert list to data series and /\n",
    "#  by declaring index we can overwrite the default index with user choice "
   ]
  },
  {
   "cell_type": "markdown",
   "id": "22030948-292e-4df6-8a59-3de12e7003dc",
   "metadata": {},
   "source": [
    "Qn 2 "
   ]
  },
  {
   "cell_type": "code",
   "execution_count": 4,
   "id": "36547b94-9be5-4d34-850e-5c09e7fd8835",
   "metadata": {},
   "outputs": [
    {
     "data": {
      "text/plain": [
       "array([[6, 1],\n",
       "       [4, 4],\n",
       "       [8, 4],\n",
       "       [6, 3],\n",
       "       [5, 8]])"
      ]
     },
     "execution_count": 4,
     "metadata": {},
     "output_type": "execute_result"
    }
   ],
   "source": [
    "import numpy as np\n",
    "np.random.seed(0)\n",
    "\n",
    "arr2 = np.random.randint(1, 10, (5, 2))\n",
    "arr2"
   ]
  },
  {
   "cell_type": "markdown",
   "id": "539cbf26-4404-4e5b-95ba-329674b71bde",
   "metadata": {},
   "source": [
    "Create a Pandas DataFrame exactly as shown below from the array `arr2`given in the cell above."
   ]
  },
  {
   "cell_type": "code",
   "execution_count": 5,
   "id": "ffa6aa9a-41ec-4b65-bb24-8c6c54eca79d",
   "metadata": {},
   "outputs": [
    {
     "data": {
      "text/html": [
       "<div>\n",
       "<style scoped>\n",
       "    .dataframe tbody tr th:only-of-type {\n",
       "        vertical-align: middle;\n",
       "    }\n",
       "\n",
       "    .dataframe tbody tr th {\n",
       "        vertical-align: top;\n",
       "    }\n",
       "\n",
       "    .dataframe thead th {\n",
       "        text-align: right;\n",
       "    }\n",
       "</style>\n",
       "<table border=\"1\" class=\"dataframe\">\n",
       "  <thead>\n",
       "    <tr style=\"text-align: right;\">\n",
       "      <th></th>\n",
       "      <th>col1</th>\n",
       "      <th>col2</th>\n",
       "    </tr>\n",
       "  </thead>\n",
       "  <tbody>\n",
       "    <tr>\n",
       "      <th>zero</th>\n",
       "      <td>6</td>\n",
       "      <td>1</td>\n",
       "    </tr>\n",
       "    <tr>\n",
       "      <th>one</th>\n",
       "      <td>4</td>\n",
       "      <td>4</td>\n",
       "    </tr>\n",
       "    <tr>\n",
       "      <th>two</th>\n",
       "      <td>8</td>\n",
       "      <td>4</td>\n",
       "    </tr>\n",
       "    <tr>\n",
       "      <th>three</th>\n",
       "      <td>6</td>\n",
       "      <td>3</td>\n",
       "    </tr>\n",
       "    <tr>\n",
       "      <th>four</th>\n",
       "      <td>5</td>\n",
       "      <td>8</td>\n",
       "    </tr>\n",
       "  </tbody>\n",
       "</table>\n",
       "</div>"
      ],
      "text/plain": [
       "       col1  col2\n",
       "zero      6     1\n",
       "one       4     4\n",
       "two       8     4\n",
       "three     6     3\n",
       "four      5     8"
      ]
     },
     "execution_count": 5,
     "metadata": {},
     "output_type": "execute_result"
    }
   ],
   "source": [
    "df = pd.DataFrame(arr2, index = ['zero', 'one', 'two', 'three', 'four'])\n",
    "df.columns = ['col1', 'col2']\n",
    "df"
   ]
  },
  {
   "cell_type": "code",
   "execution_count": 6,
   "id": "3f9648c2-d07a-4925-b269-62a09a3a57ed",
   "metadata": {},
   "outputs": [],
   "source": [
    "# Dataframe is a method to convert array to a dataframe, index and df.columns used for explicit indexing"
   ]
  },
  {
   "cell_type": "markdown",
   "id": "c8ec7fc8-058c-4a30-ada9-6d2ace0098b4",
   "metadata": {},
   "source": [
    "Qn 3 Convert the data type of 'col1' in df from 'Question 2' to float."
   ]
  },
  {
   "cell_type": "code",
   "execution_count": 7,
   "id": "eeef3191-0715-4d98-8bc2-789076b2b9d3",
   "metadata": {},
   "outputs": [
    {
     "data": {
      "text/html": [
       "<div>\n",
       "<style scoped>\n",
       "    .dataframe tbody tr th:only-of-type {\n",
       "        vertical-align: middle;\n",
       "    }\n",
       "\n",
       "    .dataframe tbody tr th {\n",
       "        vertical-align: top;\n",
       "    }\n",
       "\n",
       "    .dataframe thead th {\n",
       "        text-align: right;\n",
       "    }\n",
       "</style>\n",
       "<table border=\"1\" class=\"dataframe\">\n",
       "  <thead>\n",
       "    <tr style=\"text-align: right;\">\n",
       "      <th></th>\n",
       "      <th>col1</th>\n",
       "      <th>col2</th>\n",
       "    </tr>\n",
       "  </thead>\n",
       "  <tbody>\n",
       "    <tr>\n",
       "      <th>zero</th>\n",
       "      <td>6.0</td>\n",
       "      <td>1</td>\n",
       "    </tr>\n",
       "    <tr>\n",
       "      <th>one</th>\n",
       "      <td>4.0</td>\n",
       "      <td>4</td>\n",
       "    </tr>\n",
       "    <tr>\n",
       "      <th>two</th>\n",
       "      <td>8.0</td>\n",
       "      <td>4</td>\n",
       "    </tr>\n",
       "    <tr>\n",
       "      <th>three</th>\n",
       "      <td>6.0</td>\n",
       "      <td>3</td>\n",
       "    </tr>\n",
       "    <tr>\n",
       "      <th>four</th>\n",
       "      <td>5.0</td>\n",
       "      <td>8</td>\n",
       "    </tr>\n",
       "  </tbody>\n",
       "</table>\n",
       "</div>"
      ],
      "text/plain": [
       "       col1  col2\n",
       "zero    6.0     1\n",
       "one     4.0     4\n",
       "two     8.0     4\n",
       "three   6.0     3\n",
       "four    5.0     8"
      ]
     },
     "execution_count": 7,
     "metadata": {},
     "output_type": "execute_result"
    }
   ],
   "source": [
    "df['col1']\n",
    "df  #do not change\n",
    "df['col1'] = df['col1'].astype(float)\n",
    "df"
   ]
  },
  {
   "cell_type": "code",
   "execution_count": 8,
   "id": "720d921c-9008-47b0-98d0-038898903771",
   "metadata": {},
   "outputs": [],
   "source": [
    "# .astype is a method used to convert the data-type known as type conversion"
   ]
  },
  {
   "cell_type": "markdown",
   "id": "d4cd08ec-715c-49c2-8d4f-84904d39cb9c",
   "metadata": {},
   "source": [
    "Qn 4 "
   ]
  },
  {
   "cell_type": "code",
   "execution_count": 9,
   "id": "e5e26276-9fb7-4039-b128-5ad2d830e1e1",
   "metadata": {},
   "outputs": [
    {
     "data": {
      "text/plain": [
       "0         01 Jan 2015\n",
       "1          10-02-2016\n",
       "2            20180307\n",
       "3          2014/05/06\n",
       "4          2016-04-12\n",
       "5    2019-04-06T11:20\n",
       "dtype: object"
      ]
     },
     "execution_count": 9,
     "metadata": {},
     "output_type": "execute_result"
    }
   ],
   "source": [
    "dates = ['01 Jan 2015', '10-02-2016', '20180307', '2014/05/06', '2016-04-12', '2019-04-06T11:20']\n",
    "dates_series = pd.Series(dates)\n",
    "dates_series"
   ]
  },
  {
   "cell_type": "markdown",
   "id": "119fe273-90e8-4e4b-b0c2-09badaea8a7a",
   "metadata": {},
   "source": [
    "Covert the `dates_series` given in the cell above to a time series. The result should be exactly as shown below."
   ]
  },
  {
   "cell_type": "code",
   "execution_count": 10,
   "id": "387040de-839b-4268-bc02-f823c23db994",
   "metadata": {},
   "outputs": [
    {
     "data": {
      "text/plain": [
       "0   2015-01-01\n",
       "1          NaT\n",
       "2          NaT\n",
       "3          NaT\n",
       "4          NaT\n",
       "5          NaT\n",
       "dtype: datetime64[ns]"
      ]
     },
     "execution_count": 10,
     "metadata": {},
     "output_type": "execute_result"
    }
   ],
   "source": [
    "timeseries = pd.to_datetime(dates, errors='coerce')\n",
    "timeseries\n",
    "pd.Series(timeseries)"
   ]
  },
  {
   "cell_type": "code",
   "execution_count": 11,
   "id": "a75f0453-1c66-4f7b-a82a-27a0cef1b091",
   "metadata": {},
   "outputs": [],
   "source": [
    "# pd.to_datetime is a method in pandas that takes input datas and convert them to a standard form\n",
    "# The errors='coerce' parameter is used to handle any invalid or unparseable dates by converting them to NaT (Not a Timestamp), making the operation more robust."
   ]
  },
  {
   "cell_type": "markdown",
   "id": "9d67b812-3599-4498-b93f-b185ee58963c",
   "metadata": {},
   "source": [
    "Qn 5 "
   ]
  },
  {
   "cell_type": "code",
   "execution_count": 14,
   "id": "a3f397d7-93c4-46d0-a9d4-30e2ba6be9e3",
   "metadata": {},
   "outputs": [
    {
     "data": {
      "text/html": [
       "<div>\n",
       "<style scoped>\n",
       "    .dataframe tbody tr th:only-of-type {\n",
       "        vertical-align: middle;\n",
       "    }\n",
       "\n",
       "    .dataframe tbody tr th {\n",
       "        vertical-align: top;\n",
       "    }\n",
       "\n",
       "    .dataframe thead th {\n",
       "        text-align: right;\n",
       "    }\n",
       "</style>\n",
       "<table border=\"1\" class=\"dataframe\">\n",
       "  <thead>\n",
       "    <tr style=\"text-align: right;\">\n",
       "      <th></th>\n",
       "      <th>area</th>\n",
       "      <th>population</th>\n",
       "    </tr>\n",
       "  </thead>\n",
       "  <tbody>\n",
       "    <tr>\n",
       "      <th>California</th>\n",
       "      <td>424</td>\n",
       "      <td>38</td>\n",
       "    </tr>\n",
       "    <tr>\n",
       "      <th>Texas</th>\n",
       "      <td>696</td>\n",
       "      <td>26</td>\n",
       "    </tr>\n",
       "    <tr>\n",
       "      <th>New York</th>\n",
       "      <td>141</td>\n",
       "      <td>19</td>\n",
       "    </tr>\n",
       "    <tr>\n",
       "      <th>Florida</th>\n",
       "      <td>170</td>\n",
       "      <td>20</td>\n",
       "    </tr>\n",
       "    <tr>\n",
       "      <th>Illinois</th>\n",
       "      <td>150</td>\n",
       "      <td>129</td>\n",
       "    </tr>\n",
       "  </tbody>\n",
       "</table>\n",
       "</div>"
      ],
      "text/plain": [
       "            area  population\n",
       "California   424          38\n",
       "Texas        696          26\n",
       "New York     141          19\n",
       "Florida      170          20\n",
       "Illinois     150         129"
      ]
     },
     "execution_count": 14,
     "metadata": {},
     "output_type": "execute_result"
    }
   ],
   "source": [
    "area = pd.Series({'California': 424,\n",
    "                  'Texas': 696,\n",
    "                  'New York': 141,\n",
    "                  'Florida': 170,\n",
    "                  'Illinois': 150\n",
    "                  }) # values in thousand sq miles\n",
    "\n",
    "population = pd.Series({'California': 38,\n",
    "                  'Texas': 26,\n",
    "                  'New York': 19,\n",
    "                  'Florida': 20,\n",
    "                  'Illinois': 129\n",
    "                  }) # values in million\n",
    "\n",
    "data = pd.DataFrame({'area': area, 'population': population}) \n",
    "data\n",
    "#Given the above DataFrame `data`, multiply each value in 'area' column by 1000, and each value in 'population' by 1000000 (1 million)."
   ]
  },
  {
   "cell_type": "code",
   "execution_count": 15,
   "id": "da680920-ff37-484a-b132-f6846871f260",
   "metadata": {},
   "outputs": [
    {
     "data": {
      "text/html": [
       "<div>\n",
       "<style scoped>\n",
       "    .dataframe tbody tr th:only-of-type {\n",
       "        vertical-align: middle;\n",
       "    }\n",
       "\n",
       "    .dataframe tbody tr th {\n",
       "        vertical-align: top;\n",
       "    }\n",
       "\n",
       "    .dataframe thead th {\n",
       "        text-align: right;\n",
       "    }\n",
       "</style>\n",
       "<table border=\"1\" class=\"dataframe\">\n",
       "  <thead>\n",
       "    <tr style=\"text-align: right;\">\n",
       "      <th></th>\n",
       "      <th>area</th>\n",
       "      <th>population</th>\n",
       "    </tr>\n",
       "  </thead>\n",
       "  <tbody>\n",
       "    <tr>\n",
       "      <th>California</th>\n",
       "      <td>424000</td>\n",
       "      <td>38000000</td>\n",
       "    </tr>\n",
       "    <tr>\n",
       "      <th>Texas</th>\n",
       "      <td>696000</td>\n",
       "      <td>26000000</td>\n",
       "    </tr>\n",
       "    <tr>\n",
       "      <th>New York</th>\n",
       "      <td>141000</td>\n",
       "      <td>19000000</td>\n",
       "    </tr>\n",
       "    <tr>\n",
       "      <th>Florida</th>\n",
       "      <td>170000</td>\n",
       "      <td>20000000</td>\n",
       "    </tr>\n",
       "    <tr>\n",
       "      <th>Illinois</th>\n",
       "      <td>150000</td>\n",
       "      <td>129000000</td>\n",
       "    </tr>\n",
       "  </tbody>\n",
       "</table>\n",
       "</div>"
      ],
      "text/plain": [
       "              area  population\n",
       "California  424000    38000000\n",
       "Texas       696000    26000000\n",
       "New York    141000    19000000\n",
       "Florida     170000    20000000\n",
       "Illinois    150000   129000000"
      ]
     },
     "execution_count": 15,
     "metadata": {},
     "output_type": "execute_result"
    }
   ],
   "source": [
    "data['area'] = area * 1000\r\n",
    "data['population'] = population * 1000000\r\n",
    "\r\n",
    "data"
   ]
  },
  {
   "cell_type": "code",
   "execution_count": 16,
   "id": "b04e1000-09e5-47f2-8d8f-c9505782c5fe",
   "metadata": {},
   "outputs": [],
   "source": [
    "# data['area'] is used to access every elements of column area and when area * 1000 each elements in area gets multiplied and similar case is of population"
   ]
  },
  {
   "cell_type": "markdown",
   "id": "e79c012f-e297-4329-997c-40236e154e01",
   "metadata": {},
   "source": [
    "Create a third column `density` (population / area), which shows population density of each state in `data`."
   ]
  },
  {
   "cell_type": "code",
   "execution_count": 17,
   "id": "0354e978-9af2-4138-b7be-403f72e12710",
   "metadata": {},
   "outputs": [
    {
     "data": {
      "text/html": [
       "<div>\n",
       "<style scoped>\n",
       "    .dataframe tbody tr th:only-of-type {\n",
       "        vertical-align: middle;\n",
       "    }\n",
       "\n",
       "    .dataframe tbody tr th {\n",
       "        vertical-align: top;\n",
       "    }\n",
       "\n",
       "    .dataframe thead th {\n",
       "        text-align: right;\n",
       "    }\n",
       "</style>\n",
       "<table border=\"1\" class=\"dataframe\">\n",
       "  <thead>\n",
       "    <tr style=\"text-align: right;\">\n",
       "      <th></th>\n",
       "      <th>area</th>\n",
       "      <th>population</th>\n",
       "      <th>density</th>\n",
       "    </tr>\n",
       "  </thead>\n",
       "  <tbody>\n",
       "    <tr>\n",
       "      <th>California</th>\n",
       "      <td>424000</td>\n",
       "      <td>38000000</td>\n",
       "      <td>89.622642</td>\n",
       "    </tr>\n",
       "    <tr>\n",
       "      <th>Texas</th>\n",
       "      <td>696000</td>\n",
       "      <td>26000000</td>\n",
       "      <td>37.356322</td>\n",
       "    </tr>\n",
       "    <tr>\n",
       "      <th>New York</th>\n",
       "      <td>141000</td>\n",
       "      <td>19000000</td>\n",
       "      <td>134.751773</td>\n",
       "    </tr>\n",
       "    <tr>\n",
       "      <th>Florida</th>\n",
       "      <td>170000</td>\n",
       "      <td>20000000</td>\n",
       "      <td>117.647059</td>\n",
       "    </tr>\n",
       "    <tr>\n",
       "      <th>Illinois</th>\n",
       "      <td>150000</td>\n",
       "      <td>129000000</td>\n",
       "      <td>860.000000</td>\n",
       "    </tr>\n",
       "  </tbody>\n",
       "</table>\n",
       "</div>"
      ],
      "text/plain": [
       "              area  population     density\n",
       "California  424000    38000000   89.622642\n",
       "Texas       696000    26000000   37.356322\n",
       "New York    141000    19000000  134.751773\n",
       "Florida     170000    20000000  117.647059\n",
       "Illinois    150000   129000000  860.000000"
      ]
     },
     "execution_count": 17,
     "metadata": {},
     "output_type": "execute_result"
    }
   ],
   "source": [
    "data['density'] = data.population / data.area\n",
    "data"
   ]
  },
  {
   "cell_type": "code",
   "execution_count": 18,
   "id": "10a32c4d-c63d-4185-826c-6a64046f717c",
   "metadata": {},
   "outputs": [],
   "source": [
    "# data.population and data.area gets elements of the data frame"
   ]
  },
  {
   "cell_type": "markdown",
   "id": "f758e661-66e9-46b5-a9c3-2683152f74c2",
   "metadata": {},
   "source": [
    "Sort `data` by `density` in descending order, and show top 3 states by population density."
   ]
  },
  {
   "cell_type": "code",
   "execution_count": 19,
   "id": "b7b4aadf-ca21-4281-a28f-3f2146e3ae72",
   "metadata": {},
   "outputs": [
    {
     "data": {
      "text/html": [
       "<div>\n",
       "<style scoped>\n",
       "    .dataframe tbody tr th:only-of-type {\n",
       "        vertical-align: middle;\n",
       "    }\n",
       "\n",
       "    .dataframe tbody tr th {\n",
       "        vertical-align: top;\n",
       "    }\n",
       "\n",
       "    .dataframe thead th {\n",
       "        text-align: right;\n",
       "    }\n",
       "</style>\n",
       "<table border=\"1\" class=\"dataframe\">\n",
       "  <thead>\n",
       "    <tr style=\"text-align: right;\">\n",
       "      <th></th>\n",
       "      <th>area</th>\n",
       "      <th>population</th>\n",
       "      <th>density</th>\n",
       "    </tr>\n",
       "  </thead>\n",
       "  <tbody>\n",
       "    <tr>\n",
       "      <th>Illinois</th>\n",
       "      <td>150000</td>\n",
       "      <td>129000000</td>\n",
       "      <td>860.000000</td>\n",
       "    </tr>\n",
       "    <tr>\n",
       "      <th>New York</th>\n",
       "      <td>141000</td>\n",
       "      <td>19000000</td>\n",
       "      <td>134.751773</td>\n",
       "    </tr>\n",
       "    <tr>\n",
       "      <th>Florida</th>\n",
       "      <td>170000</td>\n",
       "      <td>20000000</td>\n",
       "      <td>117.647059</td>\n",
       "    </tr>\n",
       "    <tr>\n",
       "      <th>California</th>\n",
       "      <td>424000</td>\n",
       "      <td>38000000</td>\n",
       "      <td>89.622642</td>\n",
       "    </tr>\n",
       "    <tr>\n",
       "      <th>Texas</th>\n",
       "      <td>696000</td>\n",
       "      <td>26000000</td>\n",
       "      <td>37.356322</td>\n",
       "    </tr>\n",
       "  </tbody>\n",
       "</table>\n",
       "</div>"
      ],
      "text/plain": [
       "              area  population     density\n",
       "Illinois    150000   129000000  860.000000\n",
       "New York    141000    19000000  134.751773\n",
       "Florida     170000    20000000  117.647059\n",
       "California  424000    38000000   89.622642\n",
       "Texas       696000    26000000   37.356322"
      ]
     },
     "execution_count": 19,
     "metadata": {},
     "output_type": "execute_result"
    }
   ],
   "source": [
    "data = data.sort_values(by='density', ascending=False)\n",
    "data"
   ]
  },
  {
   "cell_type": "code",
   "execution_count": 20,
   "id": "e10ae2f0-1622-43e3-a15a-8431e47a0f85",
   "metadata": {},
   "outputs": [],
   "source": [
    "#   .sort_values is used to sort the data , by is used to define what will be the base on which the data will be sorted\n",
    "#   ascending = False is used to sort data in descending order"
   ]
  },
  {
   "cell_type": "markdown",
   "id": "f19f7427-9cac-4987-aa0d-7a8d6c9ca548",
   "metadata": {},
   "source": [
    "Using the dataframe `data`, show only the states that have the population density between 100 and 200. Show only 2 columns - 'population' and 'density'.\n"
   ]
  },
  {
   "cell_type": "code",
   "execution_count": 21,
   "id": "e3a090e9-1641-4365-8468-2366f61e30f2",
   "metadata": {},
   "outputs": [
    {
     "data": {
      "text/html": [
       "<div>\n",
       "<style scoped>\n",
       "    .dataframe tbody tr th:only-of-type {\n",
       "        vertical-align: middle;\n",
       "    }\n",
       "\n",
       "    .dataframe tbody tr th {\n",
       "        vertical-align: top;\n",
       "    }\n",
       "\n",
       "    .dataframe thead th {\n",
       "        text-align: right;\n",
       "    }\n",
       "</style>\n",
       "<table border=\"1\" class=\"dataframe\">\n",
       "  <thead>\n",
       "    <tr style=\"text-align: right;\">\n",
       "      <th></th>\n",
       "      <th>area</th>\n",
       "      <th>population</th>\n",
       "      <th>density</th>\n",
       "    </tr>\n",
       "  </thead>\n",
       "  <tbody>\n",
       "    <tr>\n",
       "      <th>New York</th>\n",
       "      <td>141000</td>\n",
       "      <td>19000000</td>\n",
       "      <td>134.751773</td>\n",
       "    </tr>\n",
       "    <tr>\n",
       "      <th>Florida</th>\n",
       "      <td>170000</td>\n",
       "      <td>20000000</td>\n",
       "      <td>117.647059</td>\n",
       "    </tr>\n",
       "  </tbody>\n",
       "</table>\n",
       "</div>"
      ],
      "text/plain": [
       "            area  population     density\n",
       "New York  141000    19000000  134.751773\n",
       "Florida   170000    20000000  117.647059"
      ]
     },
     "execution_count": 21,
     "metadata": {},
     "output_type": "execute_result"
    }
   ],
   "source": [
    "filtered_data  = data[(data['density'] >= 100) & (data['density'] <= 200)]\n",
    "\n",
    "filtered_data"
   ]
  },
  {
   "cell_type": "code",
   "execution_count": 22,
   "id": "e2f9d3d1-8c53-4f6a-b006-bcd14cf008b1",
   "metadata": {},
   "outputs": [],
   "source": [
    "#  here we used condition where density is equals or greater to 100  and smaller or equal to 200\n",
    "# we used & (AND) to include both cases"
   ]
  },
  {
   "cell_type": "markdown",
   "id": "813d0313-2b4b-495d-9c96-d55bf4d071c9",
   "metadata": {},
   "source": [
    "Qn 6"
   ]
  },
  {
   "cell_type": "code",
   "execution_count": 25,
   "id": "b075f8e7-4600-4ed7-96b5-f4dc0dd43ca7",
   "metadata": {},
   "outputs": [
    {
     "data": {
      "text/html": [
       "<div>\n",
       "<style scoped>\n",
       "    .dataframe tbody tr th:only-of-type {\n",
       "        vertical-align: middle;\n",
       "    }\n",
       "\n",
       "    .dataframe tbody tr th {\n",
       "        vertical-align: top;\n",
       "    }\n",
       "\n",
       "    .dataframe thead th {\n",
       "        text-align: right;\n",
       "    }\n",
       "</style>\n",
       "<table border=\"1\" class=\"dataframe\">\n",
       "  <thead>\n",
       "    <tr style=\"text-align: right;\">\n",
       "      <th></th>\n",
       "      <th>A</th>\n",
       "      <th>B</th>\n",
       "      <th>C</th>\n",
       "      <th>D</th>\n",
       "    </tr>\n",
       "  </thead>\n",
       "  <tbody>\n",
       "    <tr>\n",
       "      <th>0</th>\n",
       "      <td>4</td>\n",
       "      <td>0</td>\n",
       "      <td>3</td>\n",
       "      <td>3</td>\n",
       "    </tr>\n",
       "    <tr>\n",
       "      <th>1</th>\n",
       "      <td>3</td>\n",
       "      <td>1</td>\n",
       "      <td>3</td>\n",
       "      <td>2</td>\n",
       "    </tr>\n",
       "    <tr>\n",
       "      <th>2</th>\n",
       "      <td>4</td>\n",
       "      <td>0</td>\n",
       "      <td>0</td>\n",
       "      <td>4</td>\n",
       "    </tr>\n",
       "    <tr>\n",
       "      <th>3</th>\n",
       "      <td>2</td>\n",
       "      <td>1</td>\n",
       "      <td>0</td>\n",
       "      <td>1</td>\n",
       "    </tr>\n",
       "    <tr>\n",
       "      <th>4</th>\n",
       "      <td>1</td>\n",
       "      <td>0</td>\n",
       "      <td>1</td>\n",
       "      <td>4</td>\n",
       "    </tr>\n",
       "  </tbody>\n",
       "</table>\n",
       "</div>"
      ],
      "text/plain": [
       "   A  B  C  D\n",
       "0  4  0  3  3\n",
       "1  3  1  3  2\n",
       "2  4  0  0  4\n",
       "3  2  1  0  1\n",
       "4  1  0  1  4"
      ]
     },
     "execution_count": 25,
     "metadata": {},
     "output_type": "execute_result"
    }
   ],
   "source": [
    "import numpy as np\n",
    "import pandas as pd\n",
    "np.random.seed(0)\n",
    "df = pd.DataFrame(np.random.randint(0, 5, (5, 4)), columns=list('ABCD'))\n",
    "df\n",
    "#Given the above DataFrame `df`, multiply each column by column 'A'.\n"
   ]
  },
  {
   "cell_type": "code",
   "execution_count": 26,
   "id": "185c22ba-0ae0-4473-b007-c9b4d93db410",
   "metadata": {},
   "outputs": [
    {
     "data": {
      "text/html": [
       "<div>\n",
       "<style scoped>\n",
       "    .dataframe tbody tr th:only-of-type {\n",
       "        vertical-align: middle;\n",
       "    }\n",
       "\n",
       "    .dataframe tbody tr th {\n",
       "        vertical-align: top;\n",
       "    }\n",
       "\n",
       "    .dataframe thead th {\n",
       "        text-align: right;\n",
       "    }\n",
       "</style>\n",
       "<table border=\"1\" class=\"dataframe\">\n",
       "  <thead>\n",
       "    <tr style=\"text-align: right;\">\n",
       "      <th></th>\n",
       "      <th>A</th>\n",
       "      <th>B</th>\n",
       "      <th>C</th>\n",
       "      <th>D</th>\n",
       "    </tr>\n",
       "  </thead>\n",
       "  <tbody>\n",
       "    <tr>\n",
       "      <th>0</th>\n",
       "      <td>16</td>\n",
       "      <td>0</td>\n",
       "      <td>12</td>\n",
       "      <td>12</td>\n",
       "    </tr>\n",
       "    <tr>\n",
       "      <th>1</th>\n",
       "      <td>9</td>\n",
       "      <td>3</td>\n",
       "      <td>9</td>\n",
       "      <td>6</td>\n",
       "    </tr>\n",
       "    <tr>\n",
       "      <th>2</th>\n",
       "      <td>16</td>\n",
       "      <td>0</td>\n",
       "      <td>0</td>\n",
       "      <td>16</td>\n",
       "    </tr>\n",
       "    <tr>\n",
       "      <th>3</th>\n",
       "      <td>4</td>\n",
       "      <td>2</td>\n",
       "      <td>0</td>\n",
       "      <td>2</td>\n",
       "    </tr>\n",
       "    <tr>\n",
       "      <th>4</th>\n",
       "      <td>1</td>\n",
       "      <td>0</td>\n",
       "      <td>1</td>\n",
       "      <td>4</td>\n",
       "    </tr>\n",
       "  </tbody>\n",
       "</table>\n",
       "</div>"
      ],
      "text/plain": [
       "    A  B   C   D\n",
       "0  16  0  12  12\n",
       "1   9  3   9   6\n",
       "2  16  0   0  16\n",
       "3   4  2   0   2\n",
       "4   1  0   1   4"
      ]
     },
     "execution_count": 26,
     "metadata": {},
     "output_type": "execute_result"
    }
   ],
   "source": [
    "df = df.mul(df['A'], axis=0)\n",
    "df"
   ]
  },
  {
   "cell_type": "code",
   "execution_count": 27,
   "id": "d2111559-c660-4b0f-9b25-d22ddc1dd072",
   "metadata": {},
   "outputs": [],
   "source": [
    "# df.mul is pandas method where each element is multiplied by given number\n",
    "# df['A'] access the elemnts of and axis = 0 takes columns"
   ]
  },
  {
   "cell_type": "markdown",
   "id": "29b8b0af-5381-4635-9323-fc4f951d81b6",
   "metadata": {},
   "source": [
    "Qn 7"
   ]
  },
  {
   "cell_type": "code",
   "execution_count": 28,
   "id": "4c46b6de-1bfa-4c04-a670-31f69e12273b",
   "metadata": {},
   "outputs": [
    {
     "name": "stderr",
     "output_type": "stream",
     "text": [
      "  % Total    % Received % Xferd  Average Speed   Time    Time     Time  Current\n",
      "                                 Dload  Upload   Total   Spent    Left  Speed\n",
      "\n",
      "  0     0    0     0    0     0      0      0 --:--:-- --:--:-- --:--:--     0\n",
      "100 57935  100 57935    0     0  63416      0 --:--:-- --:--:-- --:--:-- 64016\n"
     ]
    },
    {
     "data": {
      "text/html": [
       "<div>\n",
       "<style scoped>\n",
       "    .dataframe tbody tr th:only-of-type {\n",
       "        vertical-align: middle;\n",
       "    }\n",
       "\n",
       "    .dataframe tbody tr th {\n",
       "        vertical-align: top;\n",
       "    }\n",
       "\n",
       "    .dataframe thead th {\n",
       "        text-align: right;\n",
       "    }\n",
       "</style>\n",
       "<table border=\"1\" class=\"dataframe\">\n",
       "  <thead>\n",
       "    <tr style=\"text-align: right;\">\n",
       "      <th></th>\n",
       "      <th>state/region</th>\n",
       "      <th>ages</th>\n",
       "      <th>year</th>\n",
       "      <th>population</th>\n",
       "    </tr>\n",
       "  </thead>\n",
       "  <tbody>\n",
       "    <tr>\n",
       "      <th>0</th>\n",
       "      <td>AL</td>\n",
       "      <td>under18</td>\n",
       "      <td>2012</td>\n",
       "      <td>1117489.0</td>\n",
       "    </tr>\n",
       "    <tr>\n",
       "      <th>1</th>\n",
       "      <td>AL</td>\n",
       "      <td>total</td>\n",
       "      <td>2012</td>\n",
       "      <td>4817528.0</td>\n",
       "    </tr>\n",
       "    <tr>\n",
       "      <th>2</th>\n",
       "      <td>AL</td>\n",
       "      <td>under18</td>\n",
       "      <td>2010</td>\n",
       "      <td>1130966.0</td>\n",
       "    </tr>\n",
       "    <tr>\n",
       "      <th>3</th>\n",
       "      <td>AL</td>\n",
       "      <td>total</td>\n",
       "      <td>2010</td>\n",
       "      <td>4785570.0</td>\n",
       "    </tr>\n",
       "    <tr>\n",
       "      <th>4</th>\n",
       "      <td>AL</td>\n",
       "      <td>under18</td>\n",
       "      <td>2011</td>\n",
       "      <td>1125763.0</td>\n",
       "    </tr>\n",
       "    <tr>\n",
       "      <th>5</th>\n",
       "      <td>AL</td>\n",
       "      <td>total</td>\n",
       "      <td>2011</td>\n",
       "      <td>4801627.0</td>\n",
       "    </tr>\n",
       "    <tr>\n",
       "      <th>6</th>\n",
       "      <td>AL</td>\n",
       "      <td>total</td>\n",
       "      <td>2009</td>\n",
       "      <td>4757938.0</td>\n",
       "    </tr>\n",
       "    <tr>\n",
       "      <th>7</th>\n",
       "      <td>AL</td>\n",
       "      <td>under18</td>\n",
       "      <td>2009</td>\n",
       "      <td>1134192.0</td>\n",
       "    </tr>\n",
       "    <tr>\n",
       "      <th>8</th>\n",
       "      <td>AL</td>\n",
       "      <td>under18</td>\n",
       "      <td>2013</td>\n",
       "      <td>1111481.0</td>\n",
       "    </tr>\n",
       "    <tr>\n",
       "      <th>9</th>\n",
       "      <td>AL</td>\n",
       "      <td>total</td>\n",
       "      <td>2013</td>\n",
       "      <td>4833722.0</td>\n",
       "    </tr>\n",
       "  </tbody>\n",
       "</table>\n",
       "</div>"
      ],
      "text/plain": [
       "  state/region     ages  year  population\n",
       "0           AL  under18  2012   1117489.0\n",
       "1           AL    total  2012   4817528.0\n",
       "2           AL  under18  2010   1130966.0\n",
       "3           AL    total  2010   4785570.0\n",
       "4           AL  under18  2011   1125763.0\n",
       "5           AL    total  2011   4801627.0\n",
       "6           AL    total  2009   4757938.0\n",
       "7           AL  under18  2009   1134192.0\n",
       "8           AL  under18  2013   1111481.0\n",
       "9           AL    total  2013   4833722.0"
      ]
     },
     "execution_count": 28,
     "metadata": {},
     "output_type": "execute_result"
    }
   ],
   "source": [
    "!curl -O https://raw.githubusercontent.com/jakevdp/data-USstates/master/state-population.csv\n",
    "\n",
    "population = pd.read_csv('state-population.csv')\n",
    "population[:10]"
   ]
  },
  {
   "cell_type": "code",
   "execution_count": 30,
   "id": "e9d733e0-fdba-48a8-839d-eedd75744948",
   "metadata": {},
   "outputs": [],
   "source": [
    "#Given the above dataframe `population`, select only the rows with 'total' (excluding 'under18') in the 'ages' column."
   ]
  },
  {
   "cell_type": "code",
   "execution_count": 31,
   "id": "8b408d2b-c89e-4603-a07b-efe5c55edd83",
   "metadata": {},
   "outputs": [
    {
     "data": {
      "text/html": [
       "<div>\n",
       "<style scoped>\n",
       "    .dataframe tbody tr th:only-of-type {\n",
       "        vertical-align: middle;\n",
       "    }\n",
       "\n",
       "    .dataframe tbody tr th {\n",
       "        vertical-align: top;\n",
       "    }\n",
       "\n",
       "    .dataframe thead th {\n",
       "        text-align: right;\n",
       "    }\n",
       "</style>\n",
       "<table border=\"1\" class=\"dataframe\">\n",
       "  <thead>\n",
       "    <tr style=\"text-align: right;\">\n",
       "      <th></th>\n",
       "      <th>state/region</th>\n",
       "      <th>ages</th>\n",
       "      <th>year</th>\n",
       "      <th>population</th>\n",
       "    </tr>\n",
       "  </thead>\n",
       "  <tbody>\n",
       "    <tr>\n",
       "      <th>1</th>\n",
       "      <td>AL</td>\n",
       "      <td>total</td>\n",
       "      <td>2012</td>\n",
       "      <td>4817528.0</td>\n",
       "    </tr>\n",
       "    <tr>\n",
       "      <th>3</th>\n",
       "      <td>AL</td>\n",
       "      <td>total</td>\n",
       "      <td>2010</td>\n",
       "      <td>4785570.0</td>\n",
       "    </tr>\n",
       "    <tr>\n",
       "      <th>5</th>\n",
       "      <td>AL</td>\n",
       "      <td>total</td>\n",
       "      <td>2011</td>\n",
       "      <td>4801627.0</td>\n",
       "    </tr>\n",
       "    <tr>\n",
       "      <th>6</th>\n",
       "      <td>AL</td>\n",
       "      <td>total</td>\n",
       "      <td>2009</td>\n",
       "      <td>4757938.0</td>\n",
       "    </tr>\n",
       "    <tr>\n",
       "      <th>9</th>\n",
       "      <td>AL</td>\n",
       "      <td>total</td>\n",
       "      <td>2013</td>\n",
       "      <td>4833722.0</td>\n",
       "    </tr>\n",
       "  </tbody>\n",
       "</table>\n",
       "</div>"
      ],
      "text/plain": [
       "  state/region   ages  year  population\n",
       "1           AL  total  2012   4817528.0\n",
       "3           AL  total  2010   4785570.0\n",
       "5           AL  total  2011   4801627.0\n",
       "6           AL  total  2009   4757938.0\n",
       "9           AL  total  2013   4833722.0"
      ]
     },
     "execution_count": 31,
     "metadata": {},
     "output_type": "execute_result"
    }
   ],
   "source": [
    "total_population = population[population['ages'] == 'total']\n",
    "total_population[:5]"
   ]
  },
  {
   "cell_type": "markdown",
   "id": "7ed3a38e-d445-4ed6-988d-7ece6705e92f",
   "metadata": {},
   "source": [
    "Follow the following steps.\n",
    "\n",
    "1. Group the `total_population` dataframe by 'state/region', \n",
    "2. select just the 'population' column, and\n",
    "3. find the mean of 'population' in each group.\n",
    "4. Convert the data type of the values in the result to `int` data type.\n",
    "5. Sort the values in descending order\n",
    "6. Show only the first 10 values.\n",
    "\n",
    "You will need to perform all the above steps in one line of code. \n",
    "\n",
    "The format will be like: `total_population`.[step1].[step2].[step3].[step4].[step5].[step6]\n"
   ]
  },
  {
   "cell_type": "code",
   "execution_count": 32,
   "id": "f18bbcbe-3290-4e83-bac5-bf674b61a862",
   "metadata": {},
   "outputs": [
    {
     "data": {
      "text/plain": [
       "state/region\n",
       "USA    284997946\n",
       "CA      34334137\n",
       "TX      21606262\n",
       "NY      18925805\n",
       "FL      16496542\n",
       "IL      12370796\n",
       "PA      12369597\n",
       "OH      11342378\n",
       "MI       9826635\n",
       "NJ       8420691\n",
       "Name: population, dtype: int32"
      ]
     },
     "execution_count": 32,
     "metadata": {},
     "output_type": "execute_result"
    }
   ],
   "source": [
    "population_mean_by_state = total_population.groupby('state/region')['population'].mean().astype(int).sort_values(ascending=False).head(10)\n",
    "population_mean_by_state"
   ]
  },
  {
   "cell_type": "code",
   "execution_count": 33,
   "id": "10bc1a51-266f-45cf-b108-660b459cd0a3",
   "metadata": {},
   "outputs": [],
   "source": [
    "# groupby['state/region'] ['population'] is used to groupby state \n",
    "# .mean() is used to find the mean of the group elemnts\n",
    "# .astype() is used for type conversion\n",
    "# ascending=false used to sort in descending order\n",
    "# head(10) displays 10 top/first datas"
   ]
  },
  {
   "cell_type": "markdown",
   "id": "068bcc9a-5b16-4227-bbb9-aa95276c7103",
   "metadata": {},
   "source": [
    "Qn 8"
   ]
  },
  {
   "cell_type": "code",
   "execution_count": 37,
   "id": "d59c9eb3-52dd-4232-9ec1-57c9230f318a",
   "metadata": {},
   "outputs": [
    {
     "data": {
      "text/html": [
       "<div>\n",
       "<style scoped>\n",
       "    .dataframe tbody tr th:only-of-type {\n",
       "        vertical-align: middle;\n",
       "    }\n",
       "\n",
       "    .dataframe tbody tr th {\n",
       "        vertical-align: top;\n",
       "    }\n",
       "\n",
       "    .dataframe thead th {\n",
       "        text-align: right;\n",
       "    }\n",
       "</style>\n",
       "<table border=\"1\" class=\"dataframe\">\n",
       "  <thead>\n",
       "    <tr style=\"text-align: right;\">\n",
       "      <th></th>\n",
       "      <th>Open</th>\n",
       "      <th>High</th>\n",
       "      <th>Low</th>\n",
       "      <th>Close</th>\n",
       "      <th>Adj Close</th>\n",
       "      <th>Volume</th>\n",
       "    </tr>\n",
       "    <tr>\n",
       "      <th>Date</th>\n",
       "      <th></th>\n",
       "      <th></th>\n",
       "      <th></th>\n",
       "      <th></th>\n",
       "      <th></th>\n",
       "      <th></th>\n",
       "    </tr>\n",
       "  </thead>\n",
       "  <tbody>\n",
       "    <tr>\n",
       "      <th>2021-06-28</th>\n",
       "      <td>266.190002</td>\n",
       "      <td>268.899994</td>\n",
       "      <td>265.910004</td>\n",
       "      <td>268.720001</td>\n",
       "      <td>268.720001</td>\n",
       "      <td>19590000</td>\n",
       "    </tr>\n",
       "    <tr>\n",
       "      <th>2021-06-29</th>\n",
       "      <td>268.869995</td>\n",
       "      <td>271.649994</td>\n",
       "      <td>267.980011</td>\n",
       "      <td>271.399994</td>\n",
       "      <td>271.399994</td>\n",
       "      <td>19937800</td>\n",
       "    </tr>\n",
       "    <tr>\n",
       "      <th>2021-06-30</th>\n",
       "      <td>270.690002</td>\n",
       "      <td>271.359985</td>\n",
       "      <td>269.600006</td>\n",
       "      <td>270.899994</td>\n",
       "      <td>270.899994</td>\n",
       "      <td>21656500</td>\n",
       "    </tr>\n",
       "    <tr>\n",
       "      <th>2021-07-01</th>\n",
       "      <td>269.609985</td>\n",
       "      <td>271.839996</td>\n",
       "      <td>269.600006</td>\n",
       "      <td>271.600006</td>\n",
       "      <td>271.600006</td>\n",
       "      <td>16725300</td>\n",
       "    </tr>\n",
       "    <tr>\n",
       "      <th>2021-07-02</th>\n",
       "      <td>272.820007</td>\n",
       "      <td>278.000000</td>\n",
       "      <td>272.500000</td>\n",
       "      <td>277.649994</td>\n",
       "      <td>277.649994</td>\n",
       "      <td>26458000</td>\n",
       "    </tr>\n",
       "  </tbody>\n",
       "</table>\n",
       "</div>"
      ],
      "text/plain": [
       "                  Open        High         Low       Close   Adj Close  \\\n",
       "Date                                                                     \n",
       "2021-06-28  266.190002  268.899994  265.910004  268.720001  268.720001   \n",
       "2021-06-29  268.869995  271.649994  267.980011  271.399994  271.399994   \n",
       "2021-06-30  270.690002  271.359985  269.600006  270.899994  270.899994   \n",
       "2021-07-01  269.609985  271.839996  269.600006  271.600006  271.600006   \n",
       "2021-07-02  272.820007  278.000000  272.500000  277.649994  277.649994   \n",
       "\n",
       "              Volume  \n",
       "Date                  \n",
       "2021-06-28  19590000  \n",
       "2021-06-29  19937800  \n",
       "2021-06-30  21656500  \n",
       "2021-07-01  16725300  \n",
       "2021-07-02  26458000  "
      ]
     },
     "execution_count": 37,
     "metadata": {},
     "output_type": "execute_result"
    }
   ],
   "source": [
    "# Please change path to your file as appropriate\n",
    "import pandas as pd\n",
    "msft = pd.read_csv('MSFT_stock_for_Pandas_HW_Q8.csv')\n",
    "\n",
    "msft.set_index('Date', inplace=True)\n",
    "msft.index = pd.to_datetime(msft.index)\n",
    "msft.tail()\n",
    "\n",
    "#Using the `msft` data above, create a Pandas Series exactly as shown below with the values as the 'High' prices at the ends of business years."
   ]
  },
  {
   "cell_type": "code",
   "execution_count": 38,
   "id": "5a5421d1-a7c9-4828-975a-3233c7f1ca42",
   "metadata": {},
   "outputs": [
    {
     "name": "stderr",
     "output_type": "stream",
     "text": [
      "C:\\Users\\hp\\AppData\\Local\\Temp\\ipykernel_6924\\2342118182.py:1: FutureWarning: 'BY' is deprecated and will be removed in a future version, please use 'BYE' instead.\n",
      "  high_annual = msft['High'].resample('BY').max()\n"
     ]
    },
    {
     "data": {
      "text/plain": [
       "Date\n",
       "2000-12-29     58.562500\n",
       "2001-12-31     38.075001\n",
       "2002-12-31     35.310001\n",
       "2003-12-31     30.000000\n",
       "2004-12-31     30.200001\n",
       "2005-12-30     28.250000\n",
       "2006-12-29     30.260000\n",
       "2007-12-31     37.500000\n",
       "2008-12-31     35.959999\n",
       "2009-12-31     31.500000\n",
       "2010-12-31     31.580000\n",
       "2011-12-30     29.459999\n",
       "2012-12-31     32.950001\n",
       "2013-12-31     38.980000\n",
       "2014-12-31     50.049999\n",
       "2015-12-31     56.849998\n",
       "2016-12-30     64.099998\n",
       "2017-12-29     87.500000\n",
       "2018-12-31    116.180000\n",
       "2019-12-31    159.550003\n",
       "2020-12-31    232.860001\n",
       "2021-12-31    278.000000\n",
       "Freq: BYE-DEC, Name: High, dtype: float64"
      ]
     },
     "execution_count": 38,
     "metadata": {},
     "output_type": "execute_result"
    }
   ],
   "source": [
    "high_annual = msft['High'].resample('BY').max()\n",
    "high_annual"
   ]
  },
  {
   "cell_type": "code",
   "execution_count": 39,
   "id": "25aa60ab-09ff-439c-adc2-e4eb0113b100",
   "metadata": {},
   "outputs": [],
   "source": [
    "#Using the `msft` data, create a Pandas Series exactly as shown below with the values as the *mean of the 'High' prices of each year* reported at business year ends."
   ]
  },
  {
   "cell_type": "code",
   "execution_count": 40,
   "id": "cb1204c3-429d-49fd-af14-eb155702325e",
   "metadata": {},
   "outputs": [],
   "source": [
    "high_annual_means = None\n",
    "high_annual_means"
   ]
  },
  {
   "cell_type": "code",
   "execution_count": null,
   "id": "5dee6cef-4f01-4236-bc58-d4bdd3cb1f4b",
   "metadata": {},
   "outputs": [],
   "source": []
  }
 ],
 "metadata": {
  "kernelspec": {
   "display_name": "Python 3 (ipykernel)",
   "language": "python",
   "name": "python3"
  },
  "language_info": {
   "codemirror_mode": {
    "name": "ipython",
    "version": 3
   },
   "file_extension": ".py",
   "mimetype": "text/x-python",
   "name": "python",
   "nbconvert_exporter": "python",
   "pygments_lexer": "ipython3",
   "version": "3.12.4"
  }
 },
 "nbformat": 4,
 "nbformat_minor": 5
}
