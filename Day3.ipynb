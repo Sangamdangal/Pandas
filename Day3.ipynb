{
 "cells": [
  {
   "cell_type": "code",
   "execution_count": 37,
   "id": "d1e374e2-6105-4f71-bd96-d35fe9630884",
   "metadata": {},
   "outputs": [
    {
     "data": {
      "text/plain": [
       "datetime.datetime(2002, 5, 25, 0, 0)"
      ]
     },
     "execution_count": 37,
     "metadata": {},
     "output_type": "execute_result"
    }
   ],
   "source": [
    "#Dates and Times in Python\n",
    "from datetime import datetime\n",
    "\n",
    "datetime(year=2002, month=5, day=25)"
   ]
  },
  {
   "cell_type": "code",
   "execution_count": 38,
   "id": "0bb522fa-04f1-4558-98fe-36731a7ab100",
   "metadata": {},
   "outputs": [
    {
     "data": {
      "text/plain": [
       "datetime.datetime(2019, 5, 25, 0, 0)"
      ]
     },
     "execution_count": 38,
     "metadata": {},
     "output_type": "execute_result"
    }
   ],
   "source": [
    "from dateutil import parser\n",
    "date = parser.parse(\"25th of May, 2019\")\n",
    "date"
   ]
  },
  {
   "cell_type": "code",
   "execution_count": 39,
   "id": "764638b7-7e9f-43df-84f8-afdf143d727d",
   "metadata": {},
   "outputs": [
    {
     "data": {
      "text/plain": [
       "'Saturday'"
      ]
     },
     "execution_count": 39,
     "metadata": {},
     "output_type": "execute_result"
    }
   ],
   "source": [
    "date.strftime('%A')"
   ]
  },
  {
   "cell_type": "code",
   "execution_count": 42,
   "id": "0bd86028-3e4c-45fc-83b4-8ca82852f742",
   "metadata": {},
   "outputs": [
    {
     "data": {
      "text/plain": [
       "Timestamp('2002-03-13 00:00:00')"
      ]
     },
     "execution_count": 42,
     "metadata": {},
     "output_type": "execute_result"
    }
   ],
   "source": [
    "#Date and time in pandas\n",
    "\n",
    "import pandas as pd\n",
    "date = pd.to_datetime('13th of March, 2002')\n",
    "date"
   ]
  },
  {
   "cell_type": "code",
   "execution_count": 43,
   "id": "d149360b-ba63-4fa3-b99b-12edf85c49ad",
   "metadata": {},
   "outputs": [
    {
     "data": {
      "text/plain": [
       "'Wednesday'"
      ]
     },
     "execution_count": 43,
     "metadata": {},
     "output_type": "execute_result"
    }
   ],
   "source": [
    "date.strftime('%A')"
   ]
  },
  {
   "cell_type": "code",
   "execution_count": 48,
   "id": "eb12f0b9-5759-4968-9176-ee0345723c3b",
   "metadata": {},
   "outputs": [
    {
     "data": {
      "text/plain": [
       "DatetimeIndex(['2002-03-13', '2002-03-14', '2002-03-15', '2002-03-16',\n",
       "               '2002-03-17', '2002-03-18', '2002-03-19', '2002-03-20',\n",
       "               '2002-03-21', '2002-03-22', '2002-03-23', '2002-03-24'],\n",
       "              dtype='datetime64[ns]', freq=None)"
      ]
     },
     "execution_count": 48,
     "metadata": {},
     "output_type": "execute_result"
    }
   ],
   "source": [
    "date + pd.to_timedelta(np.arange(12), 'D')"
   ]
  },
  {
   "cell_type": "code",
   "execution_count": 49,
   "id": "b12e70fc-cae0-4d96-9eff-f51cd6e0c302",
   "metadata": {},
   "outputs": [
    {
     "ename": "ValueError",
     "evalue": "Units 'M', 'Y', and 'y' are no longer supported, as they do not represent unambiguous timedelta values durations.",
     "output_type": "error",
     "traceback": [
      "\u001b[1;31m---------------------------------------------------------------------------\u001b[0m",
      "\u001b[1;31mValueError\u001b[0m                                Traceback (most recent call last)",
      "Cell \u001b[1;32mIn[49], line 1\u001b[0m\n\u001b[1;32m----> 1\u001b[0m date \u001b[38;5;241m+\u001b[39m pd\u001b[38;5;241m.\u001b[39mto_timedelta(np\u001b[38;5;241m.\u001b[39marange(\u001b[38;5;241m12\u001b[39m), \u001b[38;5;124m'\u001b[39m\u001b[38;5;124mM\u001b[39m\u001b[38;5;124m'\u001b[39m)\n",
      "File \u001b[1;32m~\\anaconda3\\Lib\\site-packages\\pandas\\core\\tools\\timedeltas.py:184\u001b[0m, in \u001b[0;36mto_timedelta\u001b[1;34m(arg, unit, errors)\u001b[0m\n\u001b[0;32m    182\u001b[0m \u001b[38;5;28;01mif\u001b[39;00m unit \u001b[38;5;129;01mis\u001b[39;00m \u001b[38;5;129;01mnot\u001b[39;00m \u001b[38;5;28;01mNone\u001b[39;00m:\n\u001b[0;32m    183\u001b[0m     unit \u001b[38;5;241m=\u001b[39m parse_timedelta_unit(unit)\n\u001b[1;32m--> 184\u001b[0m     disallow_ambiguous_unit(unit)\n\u001b[0;32m    186\u001b[0m \u001b[38;5;28;01mif\u001b[39;00m errors \u001b[38;5;129;01mnot\u001b[39;00m \u001b[38;5;129;01min\u001b[39;00m (\u001b[38;5;124m\"\u001b[39m\u001b[38;5;124mignore\u001b[39m\u001b[38;5;124m\"\u001b[39m, \u001b[38;5;124m\"\u001b[39m\u001b[38;5;124mraise\u001b[39m\u001b[38;5;124m\"\u001b[39m, \u001b[38;5;124m\"\u001b[39m\u001b[38;5;124mcoerce\u001b[39m\u001b[38;5;124m\"\u001b[39m):\n\u001b[0;32m    187\u001b[0m     \u001b[38;5;28;01mraise\u001b[39;00m \u001b[38;5;167;01mValueError\u001b[39;00m(\u001b[38;5;124m\"\u001b[39m\u001b[38;5;124merrors must be one of \u001b[39m\u001b[38;5;124m'\u001b[39m\u001b[38;5;124mignore\u001b[39m\u001b[38;5;124m'\u001b[39m\u001b[38;5;124m, \u001b[39m\u001b[38;5;124m'\u001b[39m\u001b[38;5;124mraise\u001b[39m\u001b[38;5;124m'\u001b[39m\u001b[38;5;124m, or \u001b[39m\u001b[38;5;124m'\u001b[39m\u001b[38;5;124mcoerce\u001b[39m\u001b[38;5;124m'\u001b[39m\u001b[38;5;124m.\u001b[39m\u001b[38;5;124m\"\u001b[39m)\n",
      "File \u001b[1;32mtimedeltas.pyx:825\u001b[0m, in \u001b[0;36mpandas._libs.tslibs.timedeltas.disallow_ambiguous_unit\u001b[1;34m()\u001b[0m\n",
      "File \u001b[1;32mtimedeltas.pyx:827\u001b[0m, in \u001b[0;36mpandas._libs.tslibs.timedeltas.disallow_ambiguous_unit\u001b[1;34m()\u001b[0m\n",
      "\u001b[1;31mValueError\u001b[0m: Units 'M', 'Y', and 'y' are no longer supported, as they do not represent unambiguous timedelta values durations."
     ]
    }
   ],
   "source": [
    "date + pd.to_timedelta(np.arange(12), 'M')"
   ]
  },
  {
   "cell_type": "code",
   "execution_count": 50,
   "id": "ff56fcbb-74b5-4a41-a789-2e65c6188970",
   "metadata": {},
   "outputs": [
    {
     "name": "stderr",
     "output_type": "stream",
     "text": [
      "C:\\Users\\hp\\AppData\\Local\\Temp\\ipykernel_4256\\1830319838.py:1: FutureWarning: 'H' is deprecated and will be removed in a future version. Please use 'h' instead of 'H'.\n",
      "  date + pd.to_timedelta(np.arange(12), 'H')\n"
     ]
    },
    {
     "data": {
      "text/plain": [
       "DatetimeIndex(['2002-03-13 00:00:00', '2002-03-13 01:00:00',\n",
       "               '2002-03-13 02:00:00', '2002-03-13 03:00:00',\n",
       "               '2002-03-13 04:00:00', '2002-03-13 05:00:00',\n",
       "               '2002-03-13 06:00:00', '2002-03-13 07:00:00',\n",
       "               '2002-03-13 08:00:00', '2002-03-13 09:00:00',\n",
       "               '2002-03-13 10:00:00', '2002-03-13 11:00:00'],\n",
       "              dtype='datetime64[ns]', freq=None)"
      ]
     },
     "execution_count": 50,
     "metadata": {},
     "output_type": "execute_result"
    }
   ],
   "source": [
    "date + pd.to_timedelta(np.arange(12), 'H')"
   ]
  },
  {
   "cell_type": "code",
   "execution_count": 51,
   "id": "56af6159-9c49-44ff-881c-74a7df3b2c3a",
   "metadata": {},
   "outputs": [
    {
     "ename": "ValueError",
     "evalue": "Units 'M', 'Y', and 'y' are no longer supported, as they do not represent unambiguous timedelta values durations.",
     "output_type": "error",
     "traceback": [
      "\u001b[1;31m---------------------------------------------------------------------------\u001b[0m",
      "\u001b[1;31mValueError\u001b[0m                                Traceback (most recent call last)",
      "Cell \u001b[1;32mIn[51], line 1\u001b[0m\n\u001b[1;32m----> 1\u001b[0m date \u001b[38;5;241m+\u001b[39m pd\u001b[38;5;241m.\u001b[39mto_timedelta(np\u001b[38;5;241m.\u001b[39marange(\u001b[38;5;241m12\u001b[39m), \u001b[38;5;124m'\u001b[39m\u001b[38;5;124mY\u001b[39m\u001b[38;5;124m'\u001b[39m)\n",
      "File \u001b[1;32m~\\anaconda3\\Lib\\site-packages\\pandas\\core\\tools\\timedeltas.py:184\u001b[0m, in \u001b[0;36mto_timedelta\u001b[1;34m(arg, unit, errors)\u001b[0m\n\u001b[0;32m    182\u001b[0m \u001b[38;5;28;01mif\u001b[39;00m unit \u001b[38;5;129;01mis\u001b[39;00m \u001b[38;5;129;01mnot\u001b[39;00m \u001b[38;5;28;01mNone\u001b[39;00m:\n\u001b[0;32m    183\u001b[0m     unit \u001b[38;5;241m=\u001b[39m parse_timedelta_unit(unit)\n\u001b[1;32m--> 184\u001b[0m     disallow_ambiguous_unit(unit)\n\u001b[0;32m    186\u001b[0m \u001b[38;5;28;01mif\u001b[39;00m errors \u001b[38;5;129;01mnot\u001b[39;00m \u001b[38;5;129;01min\u001b[39;00m (\u001b[38;5;124m\"\u001b[39m\u001b[38;5;124mignore\u001b[39m\u001b[38;5;124m\"\u001b[39m, \u001b[38;5;124m\"\u001b[39m\u001b[38;5;124mraise\u001b[39m\u001b[38;5;124m\"\u001b[39m, \u001b[38;5;124m\"\u001b[39m\u001b[38;5;124mcoerce\u001b[39m\u001b[38;5;124m\"\u001b[39m):\n\u001b[0;32m    187\u001b[0m     \u001b[38;5;28;01mraise\u001b[39;00m \u001b[38;5;167;01mValueError\u001b[39;00m(\u001b[38;5;124m\"\u001b[39m\u001b[38;5;124merrors must be one of \u001b[39m\u001b[38;5;124m'\u001b[39m\u001b[38;5;124mignore\u001b[39m\u001b[38;5;124m'\u001b[39m\u001b[38;5;124m, \u001b[39m\u001b[38;5;124m'\u001b[39m\u001b[38;5;124mraise\u001b[39m\u001b[38;5;124m'\u001b[39m\u001b[38;5;124m, or \u001b[39m\u001b[38;5;124m'\u001b[39m\u001b[38;5;124mcoerce\u001b[39m\u001b[38;5;124m'\u001b[39m\u001b[38;5;124m.\u001b[39m\u001b[38;5;124m\"\u001b[39m)\n",
      "File \u001b[1;32mtimedeltas.pyx:825\u001b[0m, in \u001b[0;36mpandas._libs.tslibs.timedeltas.disallow_ambiguous_unit\u001b[1;34m()\u001b[0m\n",
      "File \u001b[1;32mtimedeltas.pyx:827\u001b[0m, in \u001b[0;36mpandas._libs.tslibs.timedeltas.disallow_ambiguous_unit\u001b[1;34m()\u001b[0m\n",
      "\u001b[1;31mValueError\u001b[0m: Units 'M', 'Y', and 'y' are no longer supported, as they do not represent unambiguous timedelta values durations."
     ]
    }
   ],
   "source": [
    "date + pd.to_timedelta(np.arange(12), 'Y')"
   ]
  },
  {
   "cell_type": "code",
   "execution_count": 52,
   "id": "05cdf4d0-06f1-4607-8388-af20ffe7caae",
   "metadata": {},
   "outputs": [
    {
     "name": "stderr",
     "output_type": "stream",
     "text": [
      "C:\\Users\\hp\\AppData\\Local\\Temp\\ipykernel_4256\\2624555045.py:1: FutureWarning: 'S' is deprecated and will be removed in a future version. Please use 's' instead of 'S'.\n",
      "  date + pd.to_timedelta(np.arange(12), 'S')\n"
     ]
    },
    {
     "data": {
      "text/plain": [
       "DatetimeIndex(['2002-03-13 00:00:00', '2002-03-13 00:00:01',\n",
       "               '2002-03-13 00:00:02', '2002-03-13 00:00:03',\n",
       "               '2002-03-13 00:00:04', '2002-03-13 00:00:05',\n",
       "               '2002-03-13 00:00:06', '2002-03-13 00:00:07',\n",
       "               '2002-03-13 00:00:08', '2002-03-13 00:00:09',\n",
       "               '2002-03-13 00:00:10', '2002-03-13 00:00:11'],\n",
       "              dtype='datetime64[ns]', freq=None)"
      ]
     },
     "execution_count": 52,
     "metadata": {},
     "output_type": "execute_result"
    }
   ],
   "source": [
    "date + pd.to_timedelta(np.arange(12), 'S')"
   ]
  },
  {
   "cell_type": "code",
   "execution_count": 53,
   "id": "31fcc8b1-3909-46f3-9df3-216c9ee26439",
   "metadata": {},
   "outputs": [
    {
     "data": {
      "text/plain": [
       "2015-04-25    0\n",
       "2015-06-02    1\n",
       "2016-07-19    2\n",
       "2016-09-20    3\n",
       "dtype: int64"
      ]
     },
     "execution_count": 53,
     "metadata": {},
     "output_type": "execute_result"
    }
   ],
   "source": [
    "#Indexing by time\n",
    "\n",
    "import pandas as pd\n",
    "index = pd.DatetimeIndex(['2015-4-25','2015-6-2','2016-7-19','2016-9-20'])\n",
    "data = pd.Series([0, 1, 2, 3], index=index)\n",
    "data"
   ]
  },
  {
   "cell_type": "code",
   "execution_count": 54,
   "id": "972b6fdc-4b16-4e16-b8ec-eb5822cddde7",
   "metadata": {},
   "outputs": [
    {
     "data": {
      "text/plain": [
       "2015-04-25    0\n",
       "2015-06-02    1\n",
       "2016-07-19    2\n",
       "dtype: int64"
      ]
     },
     "execution_count": 54,
     "metadata": {},
     "output_type": "execute_result"
    }
   ],
   "source": [
    "data['2015-4-25':'2016-7-19']"
   ]
  },
  {
   "cell_type": "code",
   "execution_count": 56,
   "id": "13c6ff80-d614-423d-8003-4db16faf794e",
   "metadata": {},
   "outputs": [
    {
     "data": {
      "text/plain": [
       "2016-07-19    2\n",
       "2016-09-20    3\n",
       "dtype: int64"
      ]
     },
     "execution_count": 56,
     "metadata": {},
     "output_type": "execute_result"
    }
   ],
   "source": [
    "data['2016']"
   ]
  },
  {
   "cell_type": "code",
   "execution_count": 63,
   "id": "5fbdf91c-a739-4451-acc0-37a8bba575fb",
   "metadata": {},
   "outputs": [],
   "source": [
    "index = pd.date_range(start='2015-04-25', end='2016-09-20')"
   ]
  },
  {
   "cell_type": "code",
   "execution_count": 69,
   "id": "0e258b6b-a9d2-4df6-9085-e0625ae65ddd",
   "metadata": {},
   "outputs": [
    {
     "data": {
      "text/plain": [
       "DatetimeIndex(['2014-08-06'], dtype='datetime64[ns]', freq=None)"
      ]
     },
     "execution_count": 69,
     "metadata": {},
     "output_type": "execute_result"
    }
   ],
   "source": [
    "from datetime import datetime\n",
    "date = pd.to_datetime(['08-06-2014'])\n",
    "date"
   ]
  },
  {
   "cell_type": "code",
   "execution_count": 92,
   "id": "f054da48-9015-4dfb-ada8-6c5661093b67",
   "metadata": {},
   "outputs": [
    {
     "name": "stdout",
     "output_type": "stream",
     "text": [
      "DatetimeIndex(['2002-05-25', '2024-09-07'], dtype='datetime64[ns]', freq=None)\n"
     ]
    }
   ],
   "source": [
    "import pandas as pd\n",
    "from datetime import datetime\n",
    "\n",
    "dates = pd.to_datetime([\n",
    "    datetime(2002, 5, 25),\n",
    "    '2024-Sep-07'\n",
    "])\n",
    "\n",
    "print(dates)\n",
    "\n"
   ]
  },
  {
   "cell_type": "code",
   "execution_count": 93,
   "id": "60945fae-86bf-4c73-b73a-d42410c42078",
   "metadata": {},
   "outputs": [
    {
     "data": {
      "text/plain": [
       "TimedeltaIndex(['0 days', '8141 days'], dtype='timedelta64[ns]', freq=None)"
      ]
     },
     "execution_count": 93,
     "metadata": {},
     "output_type": "execute_result"
    }
   ],
   "source": [
    "dates - dates[0]"
   ]
  },
  {
   "cell_type": "code",
   "execution_count": 94,
   "id": "e25a6a11-0872-486f-abdc-06c41822a784",
   "metadata": {},
   "outputs": [
    {
     "name": "stdout",
     "output_type": "stream",
     "text": [
      "8141 days is approximately 22.304109589041097 years\n"
     ]
    }
   ],
   "source": [
    "days = 8141\n",
    "days_per_year = 365\n",
    "\n",
    "years = days / days_per_year\n",
    "print(\"8141 days is approximately\", years, \"years\")"
   ]
  },
  {
   "cell_type": "code",
   "execution_count": 95,
   "id": "10ee34c7-5b14-4179-8c2a-e17f2af75fd1",
   "metadata": {},
   "outputs": [
    {
     "data": {
      "text/plain": [
       "DatetimeIndex(['2015-02-03', '2015-02-04', '2015-02-05', '2015-02-06',\n",
       "               '2015-02-07'],\n",
       "              dtype='datetime64[ns]', freq='D')"
      ]
     },
     "execution_count": 95,
     "metadata": {},
     "output_type": "execute_result"
    }
   ],
   "source": [
    "pd.date_range('2015-02-03', '2015-02-07')"
   ]
  },
  {
   "cell_type": "code",
   "execution_count": 96,
   "id": "7c186831-ef5f-4198-84f2-70346c7e9391",
   "metadata": {},
   "outputs": [
    {
     "data": {
      "text/plain": [
       "DatetimeIndex(['2014-05-09', '2014-05-10', '2014-05-11', '2014-05-12',\n",
       "               '2014-05-13', '2014-05-14', '2014-05-15'],\n",
       "              dtype='datetime64[ns]', freq='D')"
      ]
     },
     "execution_count": 96,
     "metadata": {},
     "output_type": "execute_result"
    }
   ],
   "source": [
    "pd.date_range('2014-5-9', periods=7)"
   ]
  },
  {
   "cell_type": "code",
   "execution_count": 97,
   "id": "048339a8-64ec-4bcd-a714-082817760e3c",
   "metadata": {},
   "outputs": [
    {
     "name": "stderr",
     "output_type": "stream",
     "text": [
      "C:\\Users\\hp\\AppData\\Local\\Temp\\ipykernel_4256\\608698317.py:1: FutureWarning: 'H' is deprecated and will be removed in a future version, please use 'h' instead.\n",
      "  pd.date_range('2015-9-25', periods=7, freq='H')\n"
     ]
    },
    {
     "data": {
      "text/plain": [
       "DatetimeIndex(['2015-09-25 00:00:00', '2015-09-25 01:00:00',\n",
       "               '2015-09-25 02:00:00', '2015-09-25 03:00:00',\n",
       "               '2015-09-25 04:00:00', '2015-09-25 05:00:00',\n",
       "               '2015-09-25 06:00:00'],\n",
       "              dtype='datetime64[ns]', freq='h')"
      ]
     },
     "execution_count": 97,
     "metadata": {},
     "output_type": "execute_result"
    }
   ],
   "source": [
    "pd.date_range('2015-9-25', periods=7, freq='H')"
   ]
  },
  {
   "cell_type": "code",
   "execution_count": 98,
   "id": "6735086d-ba4a-4db2-bd16-aaaca953e931",
   "metadata": {},
   "outputs": [
    {
     "name": "stderr",
     "output_type": "stream",
     "text": [
      "C:\\Users\\hp\\AppData\\Local\\Temp\\ipykernel_4256\\1040509268.py:1: FutureWarning: 'M' is deprecated and will be removed in a future version, please use 'ME' instead.\n",
      "  pd.date_range('2015-9-25', periods=7, freq='M')\n"
     ]
    },
    {
     "data": {
      "text/plain": [
       "DatetimeIndex(['2015-09-30', '2015-10-31', '2015-11-30', '2015-12-31',\n",
       "               '2016-01-31', '2016-02-29', '2016-03-31'],\n",
       "              dtype='datetime64[ns]', freq='ME')"
      ]
     },
     "execution_count": 98,
     "metadata": {},
     "output_type": "execute_result"
    }
   ],
   "source": [
    "pd.date_range('2015-9-25', periods=7, freq='M')"
   ]
  },
  {
   "cell_type": "code",
   "execution_count": 105,
   "id": "de5e8280-2d6f-45bb-b1b0-dadd8df5c061",
   "metadata": {},
   "outputs": [
    {
     "data": {
      "text/html": [
       "<div>\n",
       "<style scoped>\n",
       "    .dataframe tbody tr th:only-of-type {\n",
       "        vertical-align: middle;\n",
       "    }\n",
       "\n",
       "    .dataframe tbody tr th {\n",
       "        vertical-align: top;\n",
       "    }\n",
       "\n",
       "    .dataframe thead th {\n",
       "        text-align: right;\n",
       "    }\n",
       "</style>\n",
       "<table border=\"1\" class=\"dataframe\">\n",
       "  <thead>\n",
       "    <tr style=\"text-align: right;\">\n",
       "      <th></th>\n",
       "      <th>Date</th>\n",
       "      <th>Open</th>\n",
       "      <th>High</th>\n",
       "      <th>Low</th>\n",
       "      <th>Close</th>\n",
       "      <th>Adj Close</th>\n",
       "      <th>Volume</th>\n",
       "    </tr>\n",
       "  </thead>\n",
       "  <tbody>\n",
       "    <tr>\n",
       "      <th>9453</th>\n",
       "      <td>2023-09-15</td>\n",
       "      <td>336.920013</td>\n",
       "      <td>337.399994</td>\n",
       "      <td>329.649994</td>\n",
       "      <td>330.220001</td>\n",
       "      <td>330.220001</td>\n",
       "      <td>37666900</td>\n",
       "    </tr>\n",
       "    <tr>\n",
       "      <th>9454</th>\n",
       "      <td>2023-09-18</td>\n",
       "      <td>327.799988</td>\n",
       "      <td>330.399994</td>\n",
       "      <td>326.359985</td>\n",
       "      <td>329.059998</td>\n",
       "      <td>329.059998</td>\n",
       "      <td>16834200</td>\n",
       "    </tr>\n",
       "    <tr>\n",
       "      <th>9455</th>\n",
       "      <td>2023-09-19</td>\n",
       "      <td>326.170013</td>\n",
       "      <td>329.390015</td>\n",
       "      <td>324.510010</td>\n",
       "      <td>328.649994</td>\n",
       "      <td>328.649994</td>\n",
       "      <td>16505900</td>\n",
       "    </tr>\n",
       "    <tr>\n",
       "      <th>9456</th>\n",
       "      <td>2023-09-20</td>\n",
       "      <td>329.510010</td>\n",
       "      <td>329.589996</td>\n",
       "      <td>320.510010</td>\n",
       "      <td>320.769989</td>\n",
       "      <td>320.769989</td>\n",
       "      <td>21436500</td>\n",
       "    </tr>\n",
       "    <tr>\n",
       "      <th>9457</th>\n",
       "      <td>2023-09-21</td>\n",
       "      <td>319.260010</td>\n",
       "      <td>325.350006</td>\n",
       "      <td>315.000000</td>\n",
       "      <td>319.529999</td>\n",
       "      <td>319.529999</td>\n",
       "      <td>35529500</td>\n",
       "    </tr>\n",
       "  </tbody>\n",
       "</table>\n",
       "</div>"
      ],
      "text/plain": [
       "            Date        Open        High         Low       Close   Adj Close  \\\n",
       "9453  2023-09-15  336.920013  337.399994  329.649994  330.220001  330.220001   \n",
       "9454  2023-09-18  327.799988  330.399994  326.359985  329.059998  329.059998   \n",
       "9455  2023-09-19  326.170013  329.390015  324.510010  328.649994  328.649994   \n",
       "9456  2023-09-20  329.510010  329.589996  320.510010  320.769989  320.769989   \n",
       "9457  2023-09-21  319.260010  325.350006  315.000000  319.529999  319.529999   \n",
       "\n",
       "        Volume  \n",
       "9453  37666900  \n",
       "9454  16834200  \n",
       "9455  16505900  \n",
       "9456  21436500  \n",
       "9457  35529500  "
      ]
     },
     "execution_count": 105,
     "metadata": {},
     "output_type": "execute_result"
    }
   ],
   "source": [
    "import pandas as pd\n",
    "msft = pd.read_csv('C:\\\\Users\\\\hp\\\\Desktop\\\\PYTHON\\\\Pandas\\\\MSFT_Stock_data.csv')\n",
    "msft.tail()\n"
   ]
  },
  {
   "cell_type": "code",
   "execution_count": 106,
   "id": "8b39764f-f48b-4ca1-a234-43483621f58b",
   "metadata": {},
   "outputs": [
    {
     "data": {
      "text/html": [
       "<div>\n",
       "<style scoped>\n",
       "    .dataframe tbody tr th:only-of-type {\n",
       "        vertical-align: middle;\n",
       "    }\n",
       "\n",
       "    .dataframe tbody tr th {\n",
       "        vertical-align: top;\n",
       "    }\n",
       "\n",
       "    .dataframe thead th {\n",
       "        text-align: right;\n",
       "    }\n",
       "</style>\n",
       "<table border=\"1\" class=\"dataframe\">\n",
       "  <thead>\n",
       "    <tr style=\"text-align: right;\">\n",
       "      <th></th>\n",
       "      <th>Open</th>\n",
       "      <th>High</th>\n",
       "      <th>Low</th>\n",
       "      <th>Close</th>\n",
       "      <th>Adj Close</th>\n",
       "      <th>Volume</th>\n",
       "    </tr>\n",
       "    <tr>\n",
       "      <th>Date</th>\n",
       "      <th></th>\n",
       "      <th></th>\n",
       "      <th></th>\n",
       "      <th></th>\n",
       "      <th></th>\n",
       "      <th></th>\n",
       "    </tr>\n",
       "  </thead>\n",
       "  <tbody>\n",
       "    <tr>\n",
       "      <th>1986-03-13</th>\n",
       "      <td>0.088542</td>\n",
       "      <td>0.101563</td>\n",
       "      <td>0.088542</td>\n",
       "      <td>0.097222</td>\n",
       "      <td>0.060396</td>\n",
       "      <td>1031788800</td>\n",
       "    </tr>\n",
       "    <tr>\n",
       "      <th>1986-03-14</th>\n",
       "      <td>0.097222</td>\n",
       "      <td>0.102431</td>\n",
       "      <td>0.097222</td>\n",
       "      <td>0.100694</td>\n",
       "      <td>0.062553</td>\n",
       "      <td>308160000</td>\n",
       "    </tr>\n",
       "    <tr>\n",
       "      <th>1986-03-17</th>\n",
       "      <td>0.100694</td>\n",
       "      <td>0.103299</td>\n",
       "      <td>0.100694</td>\n",
       "      <td>0.102431</td>\n",
       "      <td>0.063632</td>\n",
       "      <td>133171200</td>\n",
       "    </tr>\n",
       "    <tr>\n",
       "      <th>1986-03-18</th>\n",
       "      <td>0.102431</td>\n",
       "      <td>0.103299</td>\n",
       "      <td>0.098958</td>\n",
       "      <td>0.099826</td>\n",
       "      <td>0.062014</td>\n",
       "      <td>67766400</td>\n",
       "    </tr>\n",
       "    <tr>\n",
       "      <th>1986-03-19</th>\n",
       "      <td>0.099826</td>\n",
       "      <td>0.100694</td>\n",
       "      <td>0.097222</td>\n",
       "      <td>0.098090</td>\n",
       "      <td>0.060936</td>\n",
       "      <td>47894400</td>\n",
       "    </tr>\n",
       "  </tbody>\n",
       "</table>\n",
       "</div>"
      ],
      "text/plain": [
       "                Open      High       Low     Close  Adj Close      Volume\n",
       "Date                                                                     \n",
       "1986-03-13  0.088542  0.101563  0.088542  0.097222   0.060396  1031788800\n",
       "1986-03-14  0.097222  0.102431  0.097222  0.100694   0.062553   308160000\n",
       "1986-03-17  0.100694  0.103299  0.100694  0.102431   0.063632   133171200\n",
       "1986-03-18  0.102431  0.103299  0.098958  0.099826   0.062014    67766400\n",
       "1986-03-19  0.099826  0.100694  0.097222  0.098090   0.060936    47894400"
      ]
     },
     "execution_count": 106,
     "metadata": {},
     "output_type": "execute_result"
    }
   ],
   "source": [
    "msft.set_index('Date', inplace=True)\n",
    "msft.head()"
   ]
  },
  {
   "cell_type": "code",
   "execution_count": 107,
   "id": "a358ea23-fddd-416a-9813-5b305a437f5a",
   "metadata": {},
   "outputs": [
    {
     "name": "stdout",
     "output_type": "stream",
     "text": [
      "datetime64[ns]\n"
     ]
    }
   ],
   "source": [
    " msft_close = msft['Close']\n",
    "msft_close.index = pd.to_datetime(msft_close.index) # converting the dtype of index (Date) to DateTime type\n",
    "print(msft_close.index.dtype)\n"
   ]
  },
  {
   "cell_type": "code",
   "execution_count": 109,
   "id": "e60f503b-b649-4da6-8014-ff5a5bfa25a2",
   "metadata": {},
   "outputs": [
    {
     "data": {
      "image/png": "[encoded data removed]",
      "text/plain": [
       "<Figure size 640x480 with 1 Axes>"
      ]
     },
     "metadata": {},
     "output_type": "display_data"
    }
   ],
   "source": [
    "%matplotlib inline\n",
    "import matplotlib.pyplot as plt\n",
    "import seaborn; seaborn.set()\n",
    "msft_close.plot();"
   ]
  },
  {
   "cell_type": "code",
   "execution_count": null,
   "id": "48bd9922-8d83-4ea1-906f-0b4662ca8ae9",
   "metadata": {},
   "outputs": [],
   "source": []
  }
 ],
 "metadata": {
  "kernelspec": {
   "display_name": "Python 3 (ipykernel)",
   "language": "python",
   "name": "python3"
  },
  "language_info": {
   "codemirror_mode": {
    "name": "ipython",
    "version": 3
   },
   "file_extension": ".py",
   "mimetype": "text/x-python",
   "name": "python",
   "nbconvert_exporter": "python",
   "pygments_lexer": "ipython3",
   "version": "3.12.4"
  }
 },
 "nbformat": 4,
 "nbformat_minor": 5
}
